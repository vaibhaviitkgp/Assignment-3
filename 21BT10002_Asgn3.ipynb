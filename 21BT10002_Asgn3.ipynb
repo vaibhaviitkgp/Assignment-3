{
  "nbformat": 4,
  "nbformat_minor": 0,
  "metadata": {
    "colab": {
      "provenance": [],
      "authorship_tag": "ABX9TyMSMU4fUgFMSXk7LbuJaPdp",
      "include_colab_link": true
    },
    "kernelspec": {
      "name": "python3",
      "display_name": "Python 3"
    },
    "language_info": {
      "name": "python"
    }
  },
  "cells": [
    {
      "cell_type": "markdown",
      "metadata": {
        "id": "view-in-github",
        "colab_type": "text"
      },
      "source": [
        "<a href=\"https://colab.research.google.com/github/vaibhaviitkgp/Assignment-3/blob/main/21BT10002_Asgn3.ipynb\" target=\"_parent\"><img src=\"https://colab.research.google.com/assets/colab-badge.svg\" alt=\"Open In Colab\"/></a>"
      ]
    },
    {
      "cell_type": "code",
      "execution_count": 14,
      "metadata": {
        "id": "XZchaJQ1qenu"
      },
      "outputs": [],
      "source": [
        "import numpy as np\n",
        "import pandas as pd"
      ]
    },
    {
      "cell_type": "code",
      "source": [
        "data = pd.read_csv(\"/content/housing.csv\")\n",
        "data.head()"
      ],
      "metadata": {
        "colab": {
          "base_uri": "https://localhost:8080/",
          "height": 206
        },
        "id": "U4_h51r2tkxU",
        "outputId": "4b3a5544-adf1-43a9-bc77-580e5a7db81a"
      },
      "execution_count": 15,
      "outputs": [
        {
          "output_type": "execute_result",
          "data": {
            "text/plain": [
              "      RM  LSTAT  PTRATIO      MEDV\n",
              "0  6.575   4.98     15.3  504000.0\n",
              "1  6.421   9.14     17.8  453600.0\n",
              "2  7.185   4.03     17.8  728700.0\n",
              "3  6.998   2.94     18.7  701400.0\n",
              "4  7.147   5.33     18.7  760200.0"
            ],
            "text/html": [
              "\n",
              "  <div id=\"df-da70aee0-49c7-4f35-9388-37aece15e8b0\" class=\"colab-df-container\">\n",
              "    <div>\n",
              "<style scoped>\n",
              "    .dataframe tbody tr th:only-of-type {\n",
              "        vertical-align: middle;\n",
              "    }\n",
              "\n",
              "    .dataframe tbody tr th {\n",
              "        vertical-align: top;\n",
              "    }\n",
              "\n",
              "    .dataframe thead th {\n",
              "        text-align: right;\n",
              "    }\n",
              "</style>\n",
              "<table border=\"1\" class=\"dataframe\">\n",
              "  <thead>\n",
              "    <tr style=\"text-align: right;\">\n",
              "      <th></th>\n",
              "      <th>RM</th>\n",
              "      <th>LSTAT</th>\n",
              "      <th>PTRATIO</th>\n",
              "      <th>MEDV</th>\n",
              "    </tr>\n",
              "  </thead>\n",
              "  <tbody>\n",
              "    <tr>\n",
              "      <th>0</th>\n",
              "      <td>6.575</td>\n",
              "      <td>4.98</td>\n",
              "      <td>15.3</td>\n",
              "      <td>504000.0</td>\n",
              "    </tr>\n",
              "    <tr>\n",
              "      <th>1</th>\n",
              "      <td>6.421</td>\n",
              "      <td>9.14</td>\n",
              "      <td>17.8</td>\n",
              "      <td>453600.0</td>\n",
              "    </tr>\n",
              "    <tr>\n",
              "      <th>2</th>\n",
              "      <td>7.185</td>\n",
              "      <td>4.03</td>\n",
              "      <td>17.8</td>\n",
              "      <td>728700.0</td>\n",
              "    </tr>\n",
              "    <tr>\n",
              "      <th>3</th>\n",
              "      <td>6.998</td>\n",
              "      <td>2.94</td>\n",
              "      <td>18.7</td>\n",
              "      <td>701400.0</td>\n",
              "    </tr>\n",
              "    <tr>\n",
              "      <th>4</th>\n",
              "      <td>7.147</td>\n",
              "      <td>5.33</td>\n",
              "      <td>18.7</td>\n",
              "      <td>760200.0</td>\n",
              "    </tr>\n",
              "  </tbody>\n",
              "</table>\n",
              "</div>\n",
              "    <div class=\"colab-df-buttons\">\n",
              "\n",
              "  <div class=\"colab-df-container\">\n",
              "    <button class=\"colab-df-convert\" onclick=\"convertToInteractive('df-da70aee0-49c7-4f35-9388-37aece15e8b0')\"\n",
              "            title=\"Convert this dataframe to an interactive table.\"\n",
              "            style=\"display:none;\">\n",
              "\n",
              "  <svg xmlns=\"http://www.w3.org/2000/svg\" height=\"24px\" viewBox=\"0 -960 960 960\">\n",
              "    <path d=\"M120-120v-720h720v720H120Zm60-500h600v-160H180v160Zm220 220h160v-160H400v160Zm0 220h160v-160H400v160ZM180-400h160v-160H180v160Zm440 0h160v-160H620v160ZM180-180h160v-160H180v160Zm440 0h160v-160H620v160Z\"/>\n",
              "  </svg>\n",
              "    </button>\n",
              "\n",
              "  <style>\n",
              "    .colab-df-container {\n",
              "      display:flex;\n",
              "      gap: 12px;\n",
              "    }\n",
              "\n",
              "    .colab-df-convert {\n",
              "      background-color: #E8F0FE;\n",
              "      border: none;\n",
              "      border-radius: 50%;\n",
              "      cursor: pointer;\n",
              "      display: none;\n",
              "      fill: #1967D2;\n",
              "      height: 32px;\n",
              "      padding: 0 0 0 0;\n",
              "      width: 32px;\n",
              "    }\n",
              "\n",
              "    .colab-df-convert:hover {\n",
              "      background-color: #E2EBFA;\n",
              "      box-shadow: 0px 1px 2px rgba(60, 64, 67, 0.3), 0px 1px 3px 1px rgba(60, 64, 67, 0.15);\n",
              "      fill: #174EA6;\n",
              "    }\n",
              "\n",
              "    .colab-df-buttons div {\n",
              "      margin-bottom: 4px;\n",
              "    }\n",
              "\n",
              "    [theme=dark] .colab-df-convert {\n",
              "      background-color: #3B4455;\n",
              "      fill: #D2E3FC;\n",
              "    }\n",
              "\n",
              "    [theme=dark] .colab-df-convert:hover {\n",
              "      background-color: #434B5C;\n",
              "      box-shadow: 0px 1px 3px 1px rgba(0, 0, 0, 0.15);\n",
              "      filter: drop-shadow(0px 1px 2px rgba(0, 0, 0, 0.3));\n",
              "      fill: #FFFFFF;\n",
              "    }\n",
              "  </style>\n",
              "\n",
              "    <script>\n",
              "      const buttonEl =\n",
              "        document.querySelector('#df-da70aee0-49c7-4f35-9388-37aece15e8b0 button.colab-df-convert');\n",
              "      buttonEl.style.display =\n",
              "        google.colab.kernel.accessAllowed ? 'block' : 'none';\n",
              "\n",
              "      async function convertToInteractive(key) {\n",
              "        const element = document.querySelector('#df-da70aee0-49c7-4f35-9388-37aece15e8b0');\n",
              "        const dataTable =\n",
              "          await google.colab.kernel.invokeFunction('convertToInteractive',\n",
              "                                                    [key], {});\n",
              "        if (!dataTable) return;\n",
              "\n",
              "        const docLinkHtml = 'Like what you see? Visit the ' +\n",
              "          '<a target=\"_blank\" href=https://colab.research.google.com/notebooks/data_table.ipynb>data table notebook</a>'\n",
              "          + ' to learn more about interactive tables.';\n",
              "        element.innerHTML = '';\n",
              "        dataTable['output_type'] = 'display_data';\n",
              "        await google.colab.output.renderOutput(dataTable, element);\n",
              "        const docLink = document.createElement('div');\n",
              "        docLink.innerHTML = docLinkHtml;\n",
              "        element.appendChild(docLink);\n",
              "      }\n",
              "    </script>\n",
              "  </div>\n",
              "\n",
              "\n",
              "<div id=\"df-e837efc2-f2d1-41d9-957b-91af21fb096d\">\n",
              "  <button class=\"colab-df-quickchart\" onclick=\"quickchart('df-e837efc2-f2d1-41d9-957b-91af21fb096d')\"\n",
              "            title=\"Suggest charts.\"\n",
              "            style=\"display:none;\">\n",
              "\n",
              "<svg xmlns=\"http://www.w3.org/2000/svg\" height=\"24px\"viewBox=\"0 0 24 24\"\n",
              "     width=\"24px\">\n",
              "    <g>\n",
              "        <path d=\"M19 3H5c-1.1 0-2 .9-2 2v14c0 1.1.9 2 2 2h14c1.1 0 2-.9 2-2V5c0-1.1-.9-2-2-2zM9 17H7v-7h2v7zm4 0h-2V7h2v10zm4 0h-2v-4h2v4z\"/>\n",
              "    </g>\n",
              "</svg>\n",
              "  </button>\n",
              "\n",
              "<style>\n",
              "  .colab-df-quickchart {\n",
              "      --bg-color: #E8F0FE;\n",
              "      --fill-color: #1967D2;\n",
              "      --hover-bg-color: #E2EBFA;\n",
              "      --hover-fill-color: #174EA6;\n",
              "      --disabled-fill-color: #AAA;\n",
              "      --disabled-bg-color: #DDD;\n",
              "  }\n",
              "\n",
              "  [theme=dark] .colab-df-quickchart {\n",
              "      --bg-color: #3B4455;\n",
              "      --fill-color: #D2E3FC;\n",
              "      --hover-bg-color: #434B5C;\n",
              "      --hover-fill-color: #FFFFFF;\n",
              "      --disabled-bg-color: #3B4455;\n",
              "      --disabled-fill-color: #666;\n",
              "  }\n",
              "\n",
              "  .colab-df-quickchart {\n",
              "    background-color: var(--bg-color);\n",
              "    border: none;\n",
              "    border-radius: 50%;\n",
              "    cursor: pointer;\n",
              "    display: none;\n",
              "    fill: var(--fill-color);\n",
              "    height: 32px;\n",
              "    padding: 0;\n",
              "    width: 32px;\n",
              "  }\n",
              "\n",
              "  .colab-df-quickchart:hover {\n",
              "    background-color: var(--hover-bg-color);\n",
              "    box-shadow: 0 1px 2px rgba(60, 64, 67, 0.3), 0 1px 3px 1px rgba(60, 64, 67, 0.15);\n",
              "    fill: var(--button-hover-fill-color);\n",
              "  }\n",
              "\n",
              "  .colab-df-quickchart-complete:disabled,\n",
              "  .colab-df-quickchart-complete:disabled:hover {\n",
              "    background-color: var(--disabled-bg-color);\n",
              "    fill: var(--disabled-fill-color);\n",
              "    box-shadow: none;\n",
              "  }\n",
              "\n",
              "  .colab-df-spinner {\n",
              "    border: 2px solid var(--fill-color);\n",
              "    border-color: transparent;\n",
              "    border-bottom-color: var(--fill-color);\n",
              "    animation:\n",
              "      spin 1s steps(1) infinite;\n",
              "  }\n",
              "\n",
              "  @keyframes spin {\n",
              "    0% {\n",
              "      border-color: transparent;\n",
              "      border-bottom-color: var(--fill-color);\n",
              "      border-left-color: var(--fill-color);\n",
              "    }\n",
              "    20% {\n",
              "      border-color: transparent;\n",
              "      border-left-color: var(--fill-color);\n",
              "      border-top-color: var(--fill-color);\n",
              "    }\n",
              "    30% {\n",
              "      border-color: transparent;\n",
              "      border-left-color: var(--fill-color);\n",
              "      border-top-color: var(--fill-color);\n",
              "      border-right-color: var(--fill-color);\n",
              "    }\n",
              "    40% {\n",
              "      border-color: transparent;\n",
              "      border-right-color: var(--fill-color);\n",
              "      border-top-color: var(--fill-color);\n",
              "    }\n",
              "    60% {\n",
              "      border-color: transparent;\n",
              "      border-right-color: var(--fill-color);\n",
              "    }\n",
              "    80% {\n",
              "      border-color: transparent;\n",
              "      border-right-color: var(--fill-color);\n",
              "      border-bottom-color: var(--fill-color);\n",
              "    }\n",
              "    90% {\n",
              "      border-color: transparent;\n",
              "      border-bottom-color: var(--fill-color);\n",
              "    }\n",
              "  }\n",
              "</style>\n",
              "\n",
              "  <script>\n",
              "    async function quickchart(key) {\n",
              "      const quickchartButtonEl =\n",
              "        document.querySelector('#' + key + ' button');\n",
              "      quickchartButtonEl.disabled = true;  // To prevent multiple clicks.\n",
              "      quickchartButtonEl.classList.add('colab-df-spinner');\n",
              "      try {\n",
              "        const charts = await google.colab.kernel.invokeFunction(\n",
              "            'suggestCharts', [key], {});\n",
              "      } catch (error) {\n",
              "        console.error('Error during call to suggestCharts:', error);\n",
              "      }\n",
              "      quickchartButtonEl.classList.remove('colab-df-spinner');\n",
              "      quickchartButtonEl.classList.add('colab-df-quickchart-complete');\n",
              "    }\n",
              "    (() => {\n",
              "      let quickchartButtonEl =\n",
              "        document.querySelector('#df-e837efc2-f2d1-41d9-957b-91af21fb096d button');\n",
              "      quickchartButtonEl.style.display =\n",
              "        google.colab.kernel.accessAllowed ? 'block' : 'none';\n",
              "    })();\n",
              "  </script>\n",
              "</div>\n",
              "    </div>\n",
              "  </div>\n"
            ]
          },
          "metadata": {},
          "execution_count": 15
        }
      ]
    },
    {
      "cell_type": "code",
      "source": [
        "data_normalized = (data - data.min()) / (data.max() - data.min())\n",
        "X = data_normalized.drop('MEDV', axis=1).values\n",
        "y = data_normalized['MEDV'].values.reshape(-1, 1)\n",
        "X.shape, y.shape"
      ],
      "metadata": {
        "colab": {
          "base_uri": "https://localhost:8080/"
        },
        "id": "57GHUdl5tujR",
        "outputId": "aba825d6-76f6-4f6b-f0ba-80b476e1a8ed"
      },
      "execution_count": 16,
      "outputs": [
        {
          "output_type": "execute_result",
          "data": {
            "text/plain": [
              "((489, 3), (489, 1))"
            ]
          },
          "metadata": {},
          "execution_count": 16
        }
      ]
    },
    {
      "cell_type": "code",
      "source": [
        "def sigmoid(x):\n",
        "    return 1.0 / (1.0 + np.exp(-x))\n",
        "\n",
        "def sigmoid_derivative(x):\n",
        "    return x * (1.0 - x)\n",
        "\n",
        "class NeuralNetwork:\n",
        "    def __init__(self, input_neurons, hidden_neurons, output_neurons, learning_rate):\n",
        "        self.weights_input_hidden = np.random.rand(input_neurons, hidden_neurons)\n",
        "        self.weights_hidden_output = np.random.rand(hidden_neurons, output_neurons)\n",
        "\n",
        "        self.bias_hidden = np.random.rand(1, hidden_neurons)\n",
        "        self.bias_output = np.random.rand(1, output_neurons)\n",
        "\n",
        "        self.learning_rate = learning_rate\n",
        "\n",
        "    def feedforward(self, X):\n",
        "        self.hidden_layer_input = np.dot(X, self.weights_input_hidden) + self.bias_hidden\n",
        "        self.hidden_layer_output = sigmoid(self.hidden_layer_input)\n",
        "\n",
        "        self.output_layer_input = np.dot(self.hidden_layer_output, self.weights_hidden_output) + self.bias_output\n",
        "        self.output = sigmoid(self.output_layer_input)\n",
        "        return self.output\n",
        "\n",
        "    def backpropagation(self, X, y):\n",
        "        output_error = y - self.output\n",
        "        output_delta = output_error * sigmoid_derivative(self.output)\n",
        "\n",
        "        hidden_layer_error = output_delta.dot(self.weights_hidden_output.T)\n",
        "        hidden_layer_delta = hidden_layer_error * sigmoid_derivative(self.hidden_layer_output)\n",
        "\n",
        "        self.weights_hidden_output += self.hidden_layer_output.T.dot(output_delta) * self.learning_rate\n",
        "        self.bias_output += np.sum(output_delta, axis=0, keepdims=True) * self.learning_rate\n",
        "\n",
        "        self.weights_input_hidden += X.T.dot(hidden_layer_delta) * self.learning_rate\n",
        "        self.bias_hidden += np.sum(hidden_layer_delta, axis=0, keepdims=True) * self.learning_rate\n",
        "\n",
        "    def train(self, X, y, epochs):\n",
        "        for epoch in range(epochs):\n",
        "            self.feedforward(X)\n",
        "            self.backpropagation(X, y)\n",
        "\n",
        "    def predict(self, X):\n",
        "        return self.feedforward(X)"
      ],
      "metadata": {
        "id": "EchEdDt3tOUG"
      },
      "execution_count": 17,
      "outputs": []
    },
    {
      "cell_type": "code",
      "source": [
        "def mse(y_true, y_pred):\n",
        "    return np.mean((y_true - y_pred) ** 2)\n",
        "\n",
        "configs = [\n",
        "    {\"hidden_neurons\": 3, \"learning_rate\": 0.01},\n",
        "    {\"hidden_neurons\": 4, \"learning_rate\": 0.001},\n",
        "    {\"hidden_neurons\": 5, \"learning_rate\": 0.0001}\n",
        "]\n",
        "\n",
        "results = []\n",
        "\n",
        "# Split the data into training and testing sets (80% train, 20% test)\n",
        "train_size = int(0.8 * len(X))\n",
        "X_train, X_test = X[:train_size], X[train_size:]\n",
        "y_train, y_test = y[:train_size], y[train_size:]\n",
        "\n",
        "# Train and evaluate the model for each configuration\n",
        "for config in configs:\n",
        "    nn = NeuralNetwork(input_neurons=3,\n",
        "                       hidden_neurons=config[\"hidden_neurons\"],\n",
        "                       output_neurons=1,\n",
        "                       learning_rate=config[\"learning_rate\"])\n",
        "    nn.train(X_train, y_train, epochs=1000)\n",
        "    predictions = nn.predict(X_test)\n",
        "    loss = mse(y_test, predictions)\n",
        "    results.append((config, loss))\n",
        "\n",
        "results\n"
      ],
      "metadata": {
        "colab": {
          "base_uri": "https://localhost:8080/"
        },
        "id": "he-J53iYtTrJ",
        "outputId": "abb49fe5-cf43-4c4e-eb26-bcb3c9054114"
      },
      "execution_count": 18,
      "outputs": [
        {
          "output_type": "execute_result",
          "data": {
            "text/plain": [
              "[({'hidden_neurons': 3, 'learning_rate': 0.01}, 0.008150075505167857),\n",
              " ({'hidden_neurons': 4, 'learning_rate': 0.001}, 0.03610471061625243),\n",
              " ({'hidden_neurons': 5, 'learning_rate': 0.0001}, 0.03497321243011294)]"
            ]
          },
          "metadata": {},
          "execution_count": 18
        }
      ]
    },
    {
      "cell_type": "code",
      "source": [
        "def cross_validation(X, y, n_folds, hidden_neurons, learning_rate):\n",
        "    fold_size = len(X) // n_folds\n",
        "    losses = []\n",
        "\n",
        "    for i in range(n_folds):\n",
        "        # Split data into training and validation sets based on the current fold\n",
        "        start, end = i * fold_size, (i + 1) * fold_size\n",
        "        X_valid, y_valid = X[start:end], y[start:end]\n",
        "        X_train = np.vstack((X[:start], X[end:]))\n",
        "        y_train = np.vstack((y[:start], y[end:]))\n",
        "\n",
        "        # Initialize and train the neural network\n",
        "        nn = NeuralNetwork(input_neurons=3,\n",
        "                           hidden_neurons=hidden_neurons,\n",
        "                           output_neurons=1,\n",
        "                           learning_rate=learning_rate)\n",
        "        nn.train(X_train, y_train, epochs=1000)\n",
        "\n",
        "        # Predict and calculate the loss for the validation set\n",
        "        predictions = nn.predict(X_valid)\n",
        "        loss = mse(y_valid, predictions)\n",
        "        losses.append(loss)\n",
        "\n",
        "    return np.mean(losses), np.std(losses)  # Return average and standard deviation of losses\n",
        "\n",
        "# Perform 5-fold and 10-fold cross validation for the third configuration\n",
        "five_fold_avg_loss, five_fold_std = cross_validation(X, y, n_folds=5, hidden_neurons=5, learning_rate=0.0001)\n",
        "ten_fold_avg_loss, ten_fold_std = cross_validation(X, y, n_folds=10, hidden_neurons=5, learning_rate=0.0001)\n",
        "\n",
        "five_fold_avg_loss, five_fold_std, ten_fold_avg_loss, ten_fold_std\n"
      ],
      "metadata": {
        "colab": {
          "base_uri": "https://localhost:8080/"
        },
        "id": "HuKRMniAqh8d",
        "outputId": "bbb3e227-c4a5-4be0-932b-17d52b4d4e43"
      },
      "execution_count": 21,
      "outputs": [
        {
          "output_type": "execute_result",
          "data": {
            "text/plain": [
              "(0.03722947303294825,\n",
              " 0.0200555031874445,\n",
              " 0.0355255641962495,\n",
              " 0.022892700221199713)"
            ]
          },
          "metadata": {},
          "execution_count": 21
        }
      ]
    },
    {
      "cell_type": "markdown",
      "source": [
        "5-fold,10-fold CV errors for 3rd configuration."
      ],
      "metadata": {
        "id": "bJHjPESkcU_n"
      }
    },
    {
      "cell_type": "markdown",
      "source": [
        "5-fold,10-fold CV errors for 2nd configuration."
      ],
      "metadata": {
        "id": "O4LZ8BNjcLwP"
      }
    },
    {
      "cell_type": "code",
      "source": [
        "five_fold_avg_loss, five_fold_std = cross_validation(X, y, n_folds=5, hidden_neurons=4, learning_rate=0.001)\n",
        "ten_fold_avg_loss, ten_fold_std = cross_validation(X, y, n_folds=10, hidden_neurons=4, learning_rate=0.001)\n",
        "five_fold_avg_loss, five_fold_std, ten_fold_avg_loss, ten_fold_std"
      ],
      "metadata": {
        "colab": {
          "base_uri": "https://localhost:8080/"
        },
        "id": "b4bCrjWWwAP5",
        "outputId": "e9949b35-7535-4698-e584-cbc505170e07"
      },
      "execution_count": 24,
      "outputs": [
        {
          "output_type": "execute_result",
          "data": {
            "text/plain": [
              "(0.03459301698516315,\n",
              " 0.01902417194729006,\n",
              " 0.032692606874269545,\n",
              " 0.021064276988637855)"
            ]
          },
          "metadata": {},
          "execution_count": 24
        }
      ]
    },
    {
      "cell_type": "markdown",
      "source": [
        "5-fold,10-fold CV errors for 1st configuration."
      ],
      "metadata": {
        "id": "m-8JKimqcYDW"
      }
    },
    {
      "cell_type": "code",
      "source": [
        "five_fold_avg_loss, five_fold_std = cross_validation(X, y, n_folds=5, hidden_neurons=3, learning_rate=0.01)\n",
        "ten_fold_avg_loss, ten_fold_std = cross_validation(X, y, n_folds=10, hidden_neurons=3, learning_rate=0.01)\n",
        "five_fold_avg_loss, five_fold_std, ten_fold_avg_loss, ten_fold_std"
      ],
      "metadata": {
        "colab": {
          "base_uri": "https://localhost:8080/"
        },
        "id": "8zHit1XYb0aS",
        "outputId": "0b2ca27f-cdfc-4c40-e9a7-59d197bae4ea"
      },
      "execution_count": 23,
      "outputs": [
        {
          "output_type": "execute_result",
          "data": {
            "text/plain": [
              "(0.009063305939398695,\n",
              " 0.0038966629840482907,\n",
              " 0.008320862620738468,\n",
              " 0.003870837353724008)"
            ]
          },
          "metadata": {},
          "execution_count": 23
        }
      ]
    },
    {
      "cell_type": "markdown",
      "source": [
        "•\tUsing 5-fold cross-validation for 3rd configuration:\n",
        "\n",
        "  •\tAverage MSE: ~0.0372\n",
        "  \n",
        "  •\tStandard Deviation of MSE: ~0.0200"
      ],
      "metadata": {
        "id": "lcgcRF6LaXxd"
      }
    },
    {
      "cell_type": "markdown",
      "source": [
        "•\tUsing 10-fold cross-validation for 3rd configuration:\n",
        "\n",
        "  •\tAverage MSE: ~0.0355\n",
        "\n",
        "  •\tStandard Deviation of MSE: ~0.0229\n"
      ],
      "metadata": {
        "id": "ZJ7uRrJtapCp"
      }
    },
    {
      "cell_type": "markdown",
      "source": [
        "To summarize the results for all configurations:\n",
        "\n",
        "(a) 3 neurons in the hidden layer, learning rate = 0.01: MSE = ~0.00815\n",
        "\n",
        "(b) 4 neurons in the hidden layer, learning rate = 0.001: MSE = ~0.0361\n",
        "\n",
        "(c) 5 neurons in the hidden layer, learning rate = 0.0001: MSE = ~0.0350\n"
      ],
      "metadata": {
        "id": "_7Zht-ZJbExc"
      }
    },
    {
      "cell_type": "markdown",
      "source": [
        "These results suggest that the first configuration performs the best out of the three."
      ],
      "metadata": {
        "id": "95P8GEk3bdbR"
      }
    }
  ]
}